{
  "nbformat": 4,
  "nbformat_minor": 0,
  "metadata": {
    "colab": {
      "name": "Stock-Tracking-Program.ipynb",
      "provenance": [],
      "collapsed_sections": [],
      "include_colab_link": true
    },
    "kernelspec": {
      "name": "python3",
      "display_name": "Python 3"
    },
    "language_info": {
      "name": "python"
    }
  },
  "cells": [
    {
      "cell_type": "markdown",
      "metadata": {
        "id": "view-in-github",
        "colab_type": "text"
      },
      "source": [
        "<a href=\"https://colab.research.google.com/github/Raunak001/Stock-Tracking-Algorithm/blob/main/Stock_Tracking_Program.ipynb\" target=\"_parent\"><img src=\"https://colab.research.google.com/assets/colab-badge.svg\" alt=\"Open In Colab\"/></a>"
      ]
    },
    {
      "cell_type": "code",
      "metadata": {
        "colab": {
          "base_uri": "https://localhost:8080/"
        },
        "id": "5gEdNtD7IPsq",
        "outputId": "e496b2fc-593d-4da1-d66e-9af034541d04"
      },
      "source": [
        "!pip install tweepy"
      ],
      "execution_count": null,
      "outputs": [
        {
          "output_type": "stream",
          "name": "stdout",
          "text": [
            "Requirement already satisfied: tweepy in /usr/local/lib/python3.7/dist-packages (3.10.0)\n",
            "Requirement already satisfied: requests-oauthlib>=0.7.0 in /usr/local/lib/python3.7/dist-packages (from tweepy) (1.3.0)\n",
            "Requirement already satisfied: six>=1.10.0 in /usr/local/lib/python3.7/dist-packages (from tweepy) (1.15.0)\n",
            "Requirement already satisfied: requests[socks]>=2.11.1 in /usr/local/lib/python3.7/dist-packages (from tweepy) (2.23.0)\n",
            "Requirement already satisfied: oauthlib>=3.0.0 in /usr/local/lib/python3.7/dist-packages (from requests-oauthlib>=0.7.0->tweepy) (3.1.1)\n",
            "Requirement already satisfied: idna<3,>=2.5 in /usr/local/lib/python3.7/dist-packages (from requests[socks]>=2.11.1->tweepy) (2.10)\n",
            "Requirement already satisfied: chardet<4,>=3.0.2 in /usr/local/lib/python3.7/dist-packages (from requests[socks]>=2.11.1->tweepy) (3.0.4)\n",
            "Requirement already satisfied: urllib3!=1.25.0,!=1.25.1,<1.26,>=1.21.1 in /usr/local/lib/python3.7/dist-packages (from requests[socks]>=2.11.1->tweepy) (1.24.3)\n",
            "Requirement already satisfied: certifi>=2017.4.17 in /usr/local/lib/python3.7/dist-packages (from requests[socks]>=2.11.1->tweepy) (2021.10.8)\n",
            "Requirement already satisfied: PySocks!=1.5.7,>=1.5.6 in /usr/local/lib/python3.7/dist-packages (from requests[socks]>=2.11.1->tweepy) (1.7.1)\n"
          ]
        }
      ]
    },
    {
      "cell_type": "code",
      "metadata": {
        "id": "ppNMYUPksfpC"
      },
      "source": [
        "import numpy as np\n",
        "import pandas as pd\n",
        "import pandas_datareader as web\n",
        "import datetime as dt\n",
        "\n",
        "from sklearn.preprocessing import MinMaxScaler\n",
        "\n",
        "from tensorflow.keras.models import Sequential\n",
        "from tensorflow.keras.layers import Dense, Dropout, LSTM\n",
        "\n",
        "import matplotlib.pyplot as plt\n",
        "import tweepy"
      ],
      "execution_count": null,
      "outputs": []
    },
    {
      "cell_type": "code",
      "metadata": {
        "id": "5Lj5RPDytDld"
      },
      "source": [
        "company = 'AAPL'\n",
        "\n",
        "start = dt.datetime(2005, 1, 1)\n",
        "end = dt.datetime(2020, 12, 27)\n",
        "\n",
        "data = web.DataReader(company, 'stooq', start, end)\n",
        "\n",
        "# print(type(data))\n",
        "# print(data)\n",
        "\n",
        "# data['Close'].values.reshape(-1, 1)\n"
      ],
      "execution_count": null,
      "outputs": []
    },
    {
      "cell_type": "code",
      "metadata": {
        "id": "LnKzi9FItRpD"
      },
      "source": [
        "scaler = MinMaxScaler(feature_range=(0, 1))\n",
        "\n",
        "scaled_data = scaler.fit_transform(data['Close'].values.reshape(-1, 1))\n",
        "\n",
        "prediction_days = 10\n",
        "\n",
        "x_train = []\n",
        "y_train = []\n",
        "\n",
        "for x in range(prediction_days, len(scaled_data)):\n",
        "  x_train.append(scaled_data[x - prediction_days:x, 0])\n",
        "  y_train.append(scaled_data[x, 0])\n",
        "\n",
        "x_train = np.array(x_train)\n",
        "y_train = np.array(y_train)\n",
        "\n",
        "x_train = np.reshape(x_train, (x_train.shape[0], x_train.shape[1], 1))\n"
      ],
      "execution_count": null,
      "outputs": []
    },
    {
      "cell_type": "code",
      "metadata": {
        "id": "y6DRoe5jwV8G"
      },
      "source": [
        "x = 20\n",
        "y = 0.2\n",
        "\n",
        "model = Sequential()\n",
        "\n",
        "model.add(LSTM(units=x, return_sequences=True, input_shape=(x_train.shape[1], 1) ))\n",
        "model.add(Dropout(y))\n",
        "model.add(LSTM(units=x, return_sequences=True))\n",
        "model.add(Dropout(y))\n",
        "model.add(LSTM(units=x))\n",
        "model.add(Dropout(y))\n",
        "model.add(Dense(units=1)) # Prediction of the next closing day\n",
        "\n",
        "model.compile(optimizer='adam', loss='mean_squared_error')"
      ],
      "execution_count": null,
      "outputs": []
    },
    {
      "cell_type": "code",
      "metadata": {
        "colab": {
          "base_uri": "https://localhost:8080/"
        },
        "id": "bXi8kQCg1x03",
        "outputId": "346f1dbc-8306-4bb8-be45-e85b5b28f525"
      },
      "source": [
        "model.fit(x_train, y_train, epochs=25, batch_size=32)"
      ],
      "execution_count": null,
      "outputs": [
        {
          "output_type": "stream",
          "name": "stdout",
          "text": [
            "Epoch 1/25\n",
            "126/126 [==============================] - 7s 16ms/step - loss: 0.0070\n",
            "Epoch 2/25\n",
            "126/126 [==============================] - 2s 16ms/step - loss: 0.0017\n",
            "Epoch 3/25\n",
            "126/126 [==============================] - 2s 16ms/step - loss: 0.0014\n",
            "Epoch 4/25\n",
            "126/126 [==============================] - 2s 16ms/step - loss: 0.0011\n",
            "Epoch 5/25\n",
            "126/126 [==============================] - 2s 16ms/step - loss: 0.0012\n",
            "Epoch 6/25\n",
            "126/126 [==============================] - 2s 16ms/step - loss: 9.8466e-04\n",
            "Epoch 7/25\n",
            "126/126 [==============================] - 2s 16ms/step - loss: 9.6146e-04\n",
            "Epoch 8/25\n",
            "126/126 [==============================] - 2s 16ms/step - loss: 9.6521e-04\n",
            "Epoch 9/25\n",
            "126/126 [==============================] - 2s 16ms/step - loss: 8.9482e-04\n",
            "Epoch 10/25\n",
            "126/126 [==============================] - 2s 16ms/step - loss: 8.0608e-04\n",
            "Epoch 11/25\n",
            "126/126 [==============================] - 2s 16ms/step - loss: 9.0754e-04\n",
            "Epoch 12/25\n",
            "126/126 [==============================] - 2s 16ms/step - loss: 8.0952e-04\n",
            "Epoch 13/25\n",
            "126/126 [==============================] - 2s 16ms/step - loss: 7.9855e-04\n",
            "Epoch 14/25\n",
            "126/126 [==============================] - 2s 16ms/step - loss: 7.4530e-04\n",
            "Epoch 15/25\n",
            "126/126 [==============================] - 2s 16ms/step - loss: 7.8526e-04\n",
            "Epoch 16/25\n",
            "126/126 [==============================] - 2s 16ms/step - loss: 9.6886e-04\n",
            "Epoch 17/25\n",
            "126/126 [==============================] - 2s 16ms/step - loss: 7.7595e-04\n",
            "Epoch 18/25\n",
            "126/126 [==============================] - 2s 16ms/step - loss: 6.8600e-04\n",
            "Epoch 19/25\n",
            "126/126 [==============================] - 2s 16ms/step - loss: 7.3304e-04\n",
            "Epoch 20/25\n",
            "126/126 [==============================] - 2s 16ms/step - loss: 8.3593e-04\n",
            "Epoch 21/25\n",
            "126/126 [==============================] - 2s 16ms/step - loss: 8.3098e-04\n",
            "Epoch 22/25\n",
            "126/126 [==============================] - 2s 16ms/step - loss: 7.7692e-04\n",
            "Epoch 23/25\n",
            "126/126 [==============================] - 2s 16ms/step - loss: 6.7854e-04\n",
            "Epoch 24/25\n",
            "126/126 [==============================] - 2s 17ms/step - loss: 7.1587e-04\n",
            "Epoch 25/25\n",
            "126/126 [==============================] - 2s 16ms/step - loss: 7.2615e-04\n"
          ]
        },
        {
          "output_type": "execute_result",
          "data": {
            "text/plain": [
              "<keras.callbacks.History at 0x7ff918648750>"
            ]
          },
          "metadata": {},
          "execution_count": 6
        }
      ]
    },
    {
      "cell_type": "code",
      "metadata": {
        "id": "wMUkb65R2ZRu"
      },
      "source": [
        "# Test Data\n",
        "\n",
        "test_start = dt.datetime(2021, 1, 1)\n",
        "test_end = dt.datetime.now()\n",
        "\n",
        "test_data = web.DataReader(company, 'stooq', test_start, test_end)\n",
        "\n",
        "actual_price = test_data['Close'].values\n",
        "\n",
        "total_dataset = pd.concat((data['Close'], test_data['Close']))\n",
        "# print(total_dataset)\n",
        "\n",
        "model_inputs = total_dataset[len(total_dataset) - len(test_data) - prediction_days:].values\n",
        "\n",
        "model_inputs = model_inputs.reshape(-1, 1)\n",
        "# print(model_inputs)\n",
        "\n",
        "model_inputs = scaler.transform(model_inputs)\n",
        "# print(model_inputs)\n",
        "\n"
      ],
      "execution_count": null,
      "outputs": []
    },
    {
      "cell_type": "code",
      "metadata": {
        "id": "PYryv8lZ2ujn"
      },
      "source": [
        "# x_train = []\n",
        "# y_train = []\n",
        "\n",
        "# for x in range(prediction_days, len(scaled_data)):\n",
        "#   x_train.append(scaled_data[x - prediction_days:x, 0])\n",
        "#   y_train.append(scaled_data[x, 0])\n",
        "\n",
        "# x_train = np.array(x_train)\n",
        "# y_train = np.array(y_train)\n",
        "\n",
        "# x_train = np.reshape(x_train, (x_train.shape[0], x_train.shape[1], 1))\n",
        "\n",
        "\n",
        "x_test = []\n",
        "\n",
        "for x in range(prediction_days, len(model_inputs)):\n",
        "  x_test.append(model_inputs[x-prediction_days:x, 0])\n",
        "\n",
        "x_test = np.array(x_test)\n",
        "\n",
        "x_test = np.reshape(x_test, (x_test.shape[0], x_test.shape[1], 1))\n",
        "\n",
        "\n",
        "\n"
      ],
      "execution_count": null,
      "outputs": []
    },
    {
      "cell_type": "code",
      "metadata": {
        "id": "MU0R5zmX9L3F"
      },
      "source": [
        "predicted_prices = model.predict(x_test)\n",
        "\n",
        "predicted_prices = scaler.inverse_transform(predicted_prices)\n",
        "# print(predicted_prices)"
      ],
      "execution_count": null,
      "outputs": []
    },
    {
      "cell_type": "code",
      "metadata": {
        "colab": {
          "base_uri": "https://localhost:8080/",
          "height": 265
        },
        "id": "1RAJtitr3-TL",
        "outputId": "b4d1dae1-cd34-4dd6-a2aa-2c10c082a35b"
      },
      "source": [
        "plt.plot(actual_price, color=\"black\", label=f\"Actual {company} price\")\n",
        "plt.plot(predicted_prices, color=\"green\", label=f\"Predicted {company} price\")\n",
        "plt.legend()\n",
        "plt.savefig('APPL_Stock_Prediction.png')\n",
        "plt.show()"
      ],
      "execution_count": null,
      "outputs": [
        {
          "output_type": "display_data",
          "data": {
            "image/png": "[encoded data removed]",
            "text/plain": [
              "<Figure size 432x288 with 1 Axes>"
            ]
          },
          "metadata": {
            "needs_background": "light"
          }
        }
      ]
    },
    {
      "cell_type": "code",
      "metadata": {
        "id": "1HJC0YLH9ZPt"
      },
      "source": [
        "def Tweet():\n",
        "  API_Key = \"\"\n",
        "  API_Secret_Key = \"\"\n",
        "  Access_Token = \"\"\n",
        "  Access_Token_Secret = \"\"\n",
        "\n",
        "  auth = tweepy.OAuthHandler(API_Key, API_Secret_Key)\n",
        "  auth.set_access_token(Access_Token, Access_Token_Secret)\n",
        "\n",
        "  api = tweepy.API(auth)\n",
        "\n",
        "  api.update_with_media(\"/content/APPL_Stock_Prediction.png\", \"Here is my prediction for the Apple Stock in the next few days\")"
      ],
      "execution_count": null,
      "outputs": []
    },
    {
      "cell_type": "code",
      "metadata": {
        "id": "LVzn1wKLJS4F"
      },
      "source": [
        "#Tweet()"
      ],
      "execution_count": null,
      "outputs": []
    },
    {
      "cell_type": "code",
      "metadata": {
        "id": "smJOCBsnJULR"
      },
      "source": [
        ""
      ],
      "execution_count": null,
      "outputs": []
    }
  ]
}